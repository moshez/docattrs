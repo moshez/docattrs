{
 "cells": [
  {
   "cell_type": "code",
   "execution_count": 48,
   "metadata": {},
   "outputs": [],
   "source": [
    "import attr\n",
    "import textwrap"
   ]
  },
  {
   "cell_type": "code",
   "execution_count": 49,
   "metadata": {},
   "outputs": [],
   "source": [
    "@attr.s(frozen=True, auto_attribs=True)\n",
    "class Description:\n",
    "    content: str"
   ]
  },
  {
   "cell_type": "code",
   "execution_count": 50,
   "metadata": {},
   "outputs": [],
   "source": [
    "def doc(content, /, *args, **kwargs):\n",
    "    return attr.ib(*args, **kwargs, metadata={Description: Description(content)})"
   ]
  },
  {
   "cell_type": "code",
   "execution_count": 51,
   "metadata": {},
   "outputs": [],
   "source": [
    "def google_style(x):\n",
    "    data = textwrap.dedent(x.__doc__)\n",
    "    attributes = []\n",
    "    args = []\n",
    "    for field in attr.fields(x):\n",
    "        try:\n",
    "            description = field.metadata[Description]\n",
    "        except KeyError:\n",
    "            continue\n",
    "        name = field.name.lstrip(\"_\")\n",
    "        message = f\"    {name}: {description.content}\"\n",
    "        if not field.name.startswith(\"_\"):\n",
    "            attributes.append(message)\n",
    "        if field.init:\n",
    "            args.append(message)\n",
    "    if args:\n",
    "        data += \"\\nArgs:\\n\"+\"\\n\".join(args) + \"\\n\"\n",
    "    if attributes:\n",
    "        data += \"\\nAttributes:\\n\"+\"\\n\".join(attributes) + \"\\n\"\n",
    "    x.__doc__ = data\n",
    "    return x"
   ]
  },
  {
   "cell_type": "code",
   "execution_count": 52,
   "metadata": {},
   "outputs": [],
   "source": [
    "@google_style\n",
    "@attr.s(auto_attribs=True)\n",
    "class Example:\n",
    "    \"\"\"\n",
    "    Testing\n",
    "    \"\"\"\n",
    "    baz: bool = doc(\"just a baz\", init=False)\n",
    "    bar: int = doc(\"a bar\")\n",
    "    _foo: str = doc(\"a female foo\", default=\"bar\")"
   ]
  },
  {
   "cell_type": "code",
   "execution_count": 53,
   "metadata": {},
   "outputs": [
    {
     "name": "stdout",
     "output_type": "stream",
     "text": [
      "Help on class Example in module __main__:\n",
      "\n",
      "class Example(builtins.object)\n",
      " |  Example(bar: int, foo: str = 'bar') -> None\n",
      " |  \n",
      " |  Testing\n",
      " |  \n",
      " |  Args:\n",
      " |      bar: a bar\n",
      " |      foo: a female foo\n",
      " |  \n",
      " |  Attributes:\n",
      " |      baz: just a baz\n",
      " |      bar: a bar\n",
      " |  \n",
      " |  Methods defined here:\n",
      " |  \n",
      " |  __eq__(self, other)\n",
      " |      Return self==value.\n",
      " |  \n",
      " |  __ge__(self, other)\n",
      " |      Automatically created by attrs.\n",
      " |  \n",
      " |  __gt__(self, other)\n",
      " |      Automatically created by attrs.\n",
      " |  \n",
      " |  __init__(self, bar: int, foo: str = 'bar') -> None\n",
      " |      Initialize self.  See help(type(self)) for accurate signature.\n",
      " |  \n",
      " |  __le__(self, other)\n",
      " |      Automatically created by attrs.\n",
      " |  \n",
      " |  __lt__(self, other)\n",
      " |      Automatically created by attrs.\n",
      " |  \n",
      " |  __ne__(self, other)\n",
      " |      Check equality and either forward a NotImplemented or return the result\n",
      " |      negated.\n",
      " |  \n",
      " |  __repr__(self)\n",
      " |      Automatically created by attrs.\n",
      " |  \n",
      " |  ----------------------------------------------------------------------\n",
      " |  Data descriptors defined here:\n",
      " |  \n",
      " |  __dict__\n",
      " |      dictionary for instance variables (if defined)\n",
      " |  \n",
      " |  __weakref__\n",
      " |      list of weak references to the object (if defined)\n",
      " |  \n",
      " |  ----------------------------------------------------------------------\n",
      " |  Data and other attributes defined here:\n",
      " |  \n",
      " |  __annotations__ = {'_foo': <class 'str'>, 'bar': <class 'int'>, 'baz':...\n",
      " |  \n",
      " |  __attrs_attrs__ = (Attribute(name='baz', default=NOTHING, validato...p...\n",
      " |  \n",
      " |  __hash__ = None\n",
      "\n"
     ]
    }
   ],
   "source": [
    "help(Example)"
   ]
  }
 ],
 "metadata": {
  "kernelspec": {
   "display_name": "Python 3",
   "language": "python",
   "name": "python3"
  },
  "language_info": {
   "codemirror_mode": {
    "name": "ipython",
    "version": 3
   },
   "file_extension": ".py",
   "mimetype": "text/x-python",
   "name": "python",
   "nbconvert_exporter": "python",
   "pygments_lexer": "ipython3",
   "version": "3.8.3"
  }
 },
 "nbformat": 4,
 "nbformat_minor": 4
}
